{
 "cells": [
  {
   "cell_type": "code",
   "execution_count": 17,
   "metadata": {
    "scrolled": false
   },
   "outputs": [
    {
     "name": "stdout",
     "output_type": "stream",
     "text": [
      "[22 21 20 20 17 17 16 16 15 15 16 16 17 17 18 18 20 21 22 28 29 30 34 34\n",
      " 35 35 36 36 35 35 34 32 30 29 28 27]\n"
     ]
    },
    {
     "data": {
      "text/plain": [
       "<matplotlib.image.AxesImage at 0x7f3e5c68c780>"
      ]
     },
     "execution_count": 17,
     "metadata": {},
     "output_type": "execute_result"
    },
    {
     "data": {
      "image/png": "[encoded data removed]",
      "text/plain": [
       "<Figure size 432x288 with 1 Axes>"
      ]
     },
     "metadata": {
      "needs_background": "light"
     },
     "output_type": "display_data"
    }
   ],
   "source": [
    "import cv2\n",
    "import matplotlib.pyplot as plt\n",
    "import numpy as np\n",
    "%matplotlib inline\n",
    "\n",
    "maskfile = cv2.imread(\"/allen/programs/celltypes/workgroups/em-connectomics/gayathrim/nuclei_segmentation/data/labels/data_0_0.png\", 0)\n",
    "\n",
    "cnts, hierarchy= cv2.findContours(maskfile.copy(),cv2.RETR_EXTERNAL,cv2.CHAIN_APPROX_SIMPLE)\n",
    "for contour in cnts:\n",
    "    dummy_mask = np.zeros((maskfile.shape[0],maskfile.shape[1],3))\n",
    "    dummy_mask = cv2.drawContours(dummy_mask,[contour],0,(1,1,1),thickness=cv2.FILLED)\n",
    "    #x,y = np.where(dummy_mask[:,:,0]==1)\n",
    "    #plt.imshow(dummy_mask)\n",
    "   # plt.show()\n",
    "    (x, y, w, h) = cv2.boundingRect(contour)\n",
    "    cv2.rectangle(maskfile, \n",
    "        pt1 = (x, y), \n",
    "        pt2 = (x + w, y + h), \n",
    "        color = (255, 255, 255), \n",
    "        thickness = -1)\n",
    "\n",
    "print(contour[:,0,0])\n",
    "#cv2.drawContours(maskfile,cnts,-1,(125,125,0),3 )\n",
    "plt.imshow(maskfile)"
   ]
  },
  {
   "cell_type": "code",
   "execution_count": null,
   "metadata": {},
   "outputs": [],
   "source": []
  }
 ],
 "metadata": {
  "kernelspec": {
   "display_name": "Python 3",
   "language": "python",
   "name": "python3"
  },
  "language_info": {
   "codemirror_mode": {
    "name": "ipython",
    "version": 3
   },
   "file_extension": ".py",
   "mimetype": "text/x-python",
   "name": "python",
   "nbconvert_exporter": "python",
   "pygments_lexer": "ipython3",
   "version": "3.5.2"
  }
 },
 "nbformat": 4,
 "nbformat_minor": 2
}
